{
  "cells": [
    {
      "cell_type": "markdown",
      "metadata": {},
      "source": [
        "# Single-impurity Anderson model\n",
        "\n",
        "Yi-Te Huang  \n",
        "2025-01-14\n",
        "\n",
        "## Introduction\n",
        "\n",
        "The investigation of the Kondo effect in single-impurity Anderson model\n",
        "is crucial as it serves both as a valuable testing ground for the\n",
        "theories of the Kondo effect and has the potential to lead to a better\n",
        "understanding of this intrinsic many-body phenomena. For further\n",
        "detailed discussions of this model (under different parameters) using\n",
        "[`HierarchicalEOM.jl`](https://github.com/qutip/HierarchicalEOM.jl), we\n",
        "recommend to read the article (Huang et al. 2023).\n",
        "\n",
        "## Hamiltonian\n",
        "\n",
        "We consider a single-level electronic system \\[which can be populated by\n",
        "a spin-up ($\\uparrow$) or spin-down ($\\downarrow$) electron\\] coupled to\n",
        "a fermionic reservoir ($\\textrm{f}$). The total Hamiltonian is given by\n",
        "$H_{\\textrm{T}}=H_\\textrm{s}+H_\\textrm{f}+H_\\textrm{sf}$, where each\n",
        "terms takes the form\n",
        "\n",
        "$$\n",
        "\\begin{aligned}\n",
        "H_{\\textrm{s}}  &= \\epsilon \\left(d^\\dagger_\\uparrow d_\\uparrow + d^\\dagger_\\downarrow d_\\downarrow \\right) + U\\left(d^\\dagger_\\uparrow d_\\uparrow d^\\dagger_\\downarrow d_\\downarrow\\right),\\\\\n",
        "H_{\\textrm{f}}  &=\\sum_{\\sigma=\\uparrow,\\downarrow}\\sum_{k}\\epsilon_{\\sigma,k}c_{\\sigma,k}^{\\dagger}c_{\\sigma,k},\\\\\n",
        "H_{\\textrm{sf}} &=\\sum_{\\sigma=\\uparrow,\\downarrow}\\sum_{k}g_{k}c_{\\sigma,k}^{\\dagger}d_{\\sigma} + g_{k}^*d_{\\sigma}^{\\dagger}c_{\\sigma,k}.\n",
        "\\end{aligned}\n",
        "$$\n",
        "\n",
        "Here, $d_\\uparrow$ $(d_\\downarrow)$ annihilates a spin-up (spin-down)\n",
        "electron in the system, $\\epsilon$ is the energy of the electron, and\n",
        "$U$ is the Coulomb repulsion energy for double occupation. Furthermore,\n",
        "$c_{\\sigma,k}$ $(c_{\\sigma,k}^{\\dagger})$ annihilates (creates) an\n",
        "electron in the state $k$ (with energy $\\epsilon_{\\sigma,k}$) of the\n",
        "reservoir.\n",
        "\n",
        "Now, we need to build the system Hamiltonian and initial state with the\n",
        "package\n",
        "[`QuantumToolbox.jl`](https://github.com/qutip/QuantumToolbox.jl) to\n",
        "construct the operators."
      ],
      "id": "0fea0884-4c52-4757-aa8e-54826b1b223f"
    },
    {
      "cell_type": "code",
      "execution_count": 1,
      "metadata": {},
      "outputs": [],
      "source": [
        "using HierarchicalEOM  # this automatically loads `QuantumToolbox`\n",
        "using CairoMakie       # for plotting results"
      ],
      "id": "2"
    },
    {
      "cell_type": "code",
      "execution_count": 1,
      "metadata": {},
      "outputs": [
        {
          "output_type": "display_data",
          "metadata": {},
          "data": {
            "text/plain": [
              "\n",
              "Quantum Object:   type=Operator()   dims=[2, 2]   size=(4, 4)   ishermitian=true\n",
              "4×4 SparseArrays.SparseMatrixCSC{ComplexF64, Int64} with 2 stored entries:\n",
              "     ⋅           ⋅           ⋅          ⋅    \n",
              "     ⋅      -5.0+0.0im       ⋅          ⋅    \n",
              "     ⋅           ⋅      -5.0+0.0im      ⋅    \n",
              "     ⋅           ⋅           ⋅          ⋅    "
            ]
          }
        }
      ],
      "source": [
        "ϵ = -5\n",
        "U = 10\n",
        "σm = sigmam() # σ-\n",
        "σz = sigmaz() # σz\n",
        "II = qeye(2)  # identity matrix\n",
        "\n",
        "# construct the annihilation operator for both spin-up and spin-down\n",
        "# (utilize Jordan–Wigner transformation)\n",
        "d_up = tensor(σm, II)\n",
        "d_dn = tensor(-1 * σz, σm)\n",
        "Hsys = ϵ * (d_up' * d_up + d_dn' * d_dn) + U * (d_up' * d_up * d_dn' * d_dn)"
      ],
      "id": "4"
    },
    {
      "cell_type": "markdown",
      "metadata": {},
      "source": [
        "## Construct bath objects\n",
        "\n",
        "We assume the fermionic reservoir to have a [Lorentzian-shaped spectral\n",
        "density](https://qutip.org/HierarchicalEOM.jl/stable/bath_fermion/Fermion_Lorentz/#doc-Fermion-Lorentz),\n",
        "and we utilize the Padé decomposition. Furthermore, the spectral\n",
        "densities depend on the following physical parameters:\n",
        "\n",
        "-   the coupling strength $\\Gamma$ between system and reservoirs\n",
        "-   the band-width $W$\n",
        "-   the product of the Boltzmann constant $k$ and the absolute\n",
        "    temperature $T$ : $kT$\n",
        "-   the chemical potential $\\mu$\n",
        "-   the total number of exponentials for the reservoir $2(N + 1)$"
      ],
      "id": "bc90a91e-cf01-4d58-ab10-2989f55c96df"
    },
    {
      "cell_type": "code",
      "execution_count": 1,
      "metadata": {},
      "outputs": [
        {
          "output_type": "display_data",
          "metadata": {},
          "data": {
            "text/plain": [
              "2-element Vector{FermionBath}:\n",
              " HierarchicalEOM.FermionBath object with 12 terms.\n",
              "\n",
              " HierarchicalEOM.FermionBath object with 12 terms."
            ]
          }
        }
      ],
      "source": [
        "Γ = 2\n",
        "μ = 0\n",
        "W = 10\n",
        "kT = 0.5\n",
        "N = 5\n",
        "bath_up = Fermion_Lorentz_Pade(d_up, Γ, μ, W, kT, N)\n",
        "bath_dn = Fermion_Lorentz_Pade(d_dn, Γ, μ, W, kT, N)\n",
        "bath_list = [bath_up, bath_dn]"
      ],
      "id": "6"
    },
    {
      "cell_type": "markdown",
      "metadata": {},
      "source": [
        "## Construct HEOMLS matrix"
      ],
      "id": "476b72ea-d485-4eef-8bf1-8352ce8aa427"
    },
    {
      "cell_type": "code",
      "execution_count": 1,
      "metadata": {},
      "outputs": [
        {
          "output_type": "stream",
          "name": "stdout",
          "text": [
            "Preparing block matrices for HEOM Liouvillian superoperator (using 4 threads)...\n",
            "Progress: [==============================] 100.0% --- Elapsed Time: 0h 00m 00s (ETA: 0h 00m 00s)\n",
            "Constructing matrix...[DONE]\n",
            "Preparing block matrices for HEOM Liouvillian superoperator (using 4 threads)...\n",
            "Progress: [==============================] 100.0% --- Elapsed Time: 0h 00m 00s (ETA: 0h 00m 00s)\n",
            "Constructing matrix...[DONE]"
          ]
        },
        {
          "output_type": "display_data",
          "metadata": {},
          "data": {
            "text/plain": [
              "Fermion type HEOMLS matrix acting on odd-parity ADOs\n",
              "system dims = [2, 2]\n",
              "number of ADOs N = 2325\n",
              "data =\n",
              "MatrixOperator(37200 × 37200)"
            ]
          }
        }
      ],
      "source": [
        "tier = 3\n",
        "M_even = M_Fermion(Hsys, tier, bath_list)\n",
        "M_odd = M_Fermion(Hsys, tier, bath_list, ODD)"
      ],
      "id": "8"
    },
    {
      "cell_type": "markdown",
      "metadata": {},
      "source": [
        "## Solve stationary state of ADOs"
      ],
      "id": "da7fdaa9-60ca-4976-9646-c677a7994c81"
    },
    {
      "cell_type": "code",
      "execution_count": 1,
      "metadata": {},
      "outputs": [
        {
          "output_type": "stream",
          "name": "stdout",
          "text": [
            "Solving steady state for ADOs by linear-solve method...\n",
            "Calculating left preconditioner with ilu...[DONE]\n",
            "Solving linear problem...[DONE]"
          ]
        },
        {
          "output_type": "display_data",
          "metadata": {},
          "data": {
            "text/plain": [
              "2325 Auxiliary Density Operators with even-parity and (system) dims = [2, 2]"
            ]
          }
        }
      ],
      "source": [
        "ados_s = steadystate(M_even)"
      ],
      "id": "10"
    },
    {
      "cell_type": "markdown",
      "metadata": {},
      "source": [
        "## Calculate density of states (DOS)"
      ],
      "id": "74d70994-5797-42ff-a126-54edbf6e43e8"
    },
    {
      "cell_type": "code",
      "execution_count": 1,
      "metadata": {},
      "outputs": [
        {
          "output_type": "stream",
          "name": "stdout",
          "text": [
            "Calculating density of states in frequency domain...\n",
            "Progress: [=================             ]  57.1% --- Elapsed Time: 0h 00m 01s (ETA: 0h 00m 00s)Progress: [==============================] 100.0% --- Elapsed Time: 0h 00m 01s (ETA: 0h 00m 00s)\n",
            "[DONE]"
          ]
        },
        {
          "output_type": "display_data",
          "metadata": {},
          "data": {
            "text/plain": [
              "21-element Vector{Float64}:\n",
              " 0.02434162065289487\n",
              " 0.04465552042387327\n",
              " 0.09077144051564014\n",
              " 0.19298880556747186\n",
              " 0.2935153689447\n",
              " 0.23367107985907315\n",
              " 0.15864674406911258\n",
              " 0.12379877950506187\n",
              " 0.11772111509217906\n",
              " 0.145243037047314\n",
              " ⋮\n",
              " 0.11772111509216472\n",
              " 0.12379877950510276\n",
              " 0.15864674406912144\n",
              " 0.2336710798590303\n",
              " 0.29351536894465224\n",
              " 0.192988805567427\n",
              " 0.0907714405156127\n",
              " 0.04465552042384389\n",
              " 0.024341620652875384"
            ]
          }
        }
      ],
      "source": [
        "ωlist = -10:1:10\n",
        "dos = DensityOfStates(M_odd, ados_s, d_up, ωlist)"
      ],
      "id": "12"
    },
    {
      "cell_type": "markdown",
      "metadata": {},
      "source": [
        "plot the results"
      ],
      "id": "1477d392-61a6-452f-8941-ee948291b5a5"
    },
    {
      "cell_type": "code",
      "execution_count": 1,
      "metadata": {},
      "outputs": [
        {
          "output_type": "display_data",
          "metadata": {},
          "data": {
            "text/html": [
              "<img width=500 height=350 style='object-fit: contain; height: auto;' src=\"data:image/png;base64, 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\"/>"
            ]
          }
        }
      ],
      "source": [
        "fig = Figure(size = (500, 350))\n",
        "ax = Axis(fig[1, 1], xlabel = L\"\\omega\")\n",
        "lines!(ax, ωlist, dos)\n",
        "\n",
        "fig"
      ],
      "id": "14"
    },
    {
      "cell_type": "markdown",
      "metadata": {},
      "source": [
        "## Version Information"
      ],
      "id": "b1a796ea-f7cb-413a-b72f-dc1682a70dfe"
    },
    {
      "cell_type": "code",
      "execution_count": 1,
      "metadata": {},
      "outputs": [],
      "source": [
        "HierarchicalEOM.versioninfo()"
      ],
      "id": "16"
    },
    {
      "cell_type": "markdown",
      "metadata": {},
      "source": [
        "Huang, Yi-Te, Po-Chen Kuo, Neill Lambert, Mauro Cirio, Simon Cross,\n",
        "Shen-Liang Yang, Franco Nori, and Yueh-Nan Chen. 2023. “An Efficient\n",
        "Julia Framework for Hierarchical Equations of Motion in Open Quantum\n",
        "Systems.” *Communications Physics* 6 (1): 313.\n",
        "<https://doi.org/10.1038/s42005-023-01427-2>."
      ],
      "id": "2a6bdae9-dad5-4da7-b50e-4f74dbd414a8"
    }
  ],
  "nbformat": 4,
  "nbformat_minor": 5,
  "metadata": {
    "kernel_info": {
      "name": "julia"
    },
    "kernelspec": {
      "name": "julia",
      "display_name": "Julia",
      "language": "julia"
    },
    "language_info": {
      "name": "julia",
      "codemirror_mode": "julia",
      "version": "1.11.5"
    }
  }
}