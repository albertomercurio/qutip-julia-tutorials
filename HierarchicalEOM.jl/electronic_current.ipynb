{
  "cells": [
    {
      "cell_type": "markdown",
      "metadata": {},
      "source": [
        "# Electronic Current\n",
        "\n",
        "Yi-Te Huang  \n",
        "2025-01-14\n",
        "\n",
        "Inspirations taken from [qutip\n",
        "documentation](https://qutip.org/documentation.html).\n",
        "\n",
        "## Introduction\n",
        "\n",
        "In this example, we demonstrate how to compute an environmental\n",
        "observable: the electronic current. For further detailed discussions of\n",
        "calculating the electronic current using\n",
        "[`HierarchicalEOM.jl`](https://github.com/qutip/HierarchicalEOM.jl), we\n",
        "recommend to read the article (Huang et al. 2023).\n",
        "\n",
        "## Hamiltonian\n",
        "\n",
        "We consider a single-level charge system coupled to two \\[left (L) and\n",
        "right (R)\\] fermionic reservoirs ($\\textrm{f}$). The total Hamiltonian\n",
        "is given by $H_{\\textrm{T}}=H_\\textrm{s}+H_\\textrm{f}+H_\\textrm{sf}$,\n",
        "where each terms takes the form\n",
        "\n",
        "$$\n",
        "\\begin{aligned}\n",
        "H_{\\textrm{s}}  &= \\epsilon d^\\dagger d,\\\\\n",
        "H_{\\textrm{f}}  &=\\sum_{\\alpha=\\textrm{L},\\textrm{R}}\\sum_{k}\\epsilon_{\\alpha,k}c_{\\alpha,k}^{\\dagger}c_{\\alpha,k},\\\\\n",
        "H_{\\textrm{sf}} &=\\sum_{\\alpha=\\textrm{L},\\textrm{R}}\\sum_{k}g_{\\alpha,k}c_{\\alpha,k}^{\\dagger}d + g_{\\alpha,k}^* d^{\\dagger}c_{\\alpha,k}.\n",
        "\\end{aligned}\n",
        "$$\n",
        "\n",
        "Here, $d$ $(d^\\dagger)$ annihilates (creates) an electron in the system\n",
        "and $\\epsilon$ is the energy of the electron. Furthermore,\n",
        "$c_{\\alpha,k}$ $(c_{\\alpha,k}^{\\dagger})$ annihilates (creates) an\n",
        "electron in the state $k$ (with energy $\\epsilon_{\\alpha,k}$) of the\n",
        "$\\alpha$-th reservoir.\n",
        "\n",
        "Now, we need to build the system Hamiltonian and initial state with the\n",
        "package\n",
        "[`QuantumToolbox.jl`](https://github.com/qutip/QuantumToolbox.jl) to\n",
        "construct the operators."
      ],
      "id": "6c7d47dc-7034-4a02-a3f4-bae5baac80aa"
    },
    {
      "cell_type": "code",
      "execution_count": 1,
      "metadata": {},
      "outputs": [],
      "source": [
        "using HierarchicalEOM  # this automatically loads `QuantumToolbox`\n",
        "using CairoMakie       # for plotting results"
      ],
      "id": "2"
    },
    {
      "cell_type": "code",
      "execution_count": 1,
      "metadata": {},
      "outputs": [],
      "source": [
        "d = destroy(2) # annihilation operator of the system electron\n",
        "\n",
        "# The system Hamiltonian\n",
        "ϵ = 1.0 # site energy\n",
        "Hsys = ϵ * d' * d\n",
        "\n",
        "# System initial state\n",
        "ψ0 = basis(2, 0);"
      ],
      "id": "4"
    },
    {
      "cell_type": "markdown",
      "metadata": {},
      "source": [
        "## Construct bath objects\n",
        "\n",
        "We assume the fermionic reservoir to have a [Lorentzian-shaped spectral\n",
        "density](https://qutip.org/HierarchicalEOM.jl/stable/bath_fermion/Fermion_Lorentz/#doc-Fermion-Lorentz),\n",
        "and we utilize the Padé decomposition. Furthermore, the spectral\n",
        "densities depend on the following physical parameters:\n",
        "\n",
        "-   the coupling strength $\\Gamma$ between system and reservoirs\n",
        "-   the band-width $W$\n",
        "-   the product of the Boltzmann constant $k$ and the absolute\n",
        "    temperature $T$ : $kT$\n",
        "-   the chemical potential $\\mu$\n",
        "-   the total number of exponentials for the reservoir $2(N + 1)$"
      ],
      "id": "6b30619c-7adb-4d51-a85e-1ec7d56064b2"
    },
    {
      "cell_type": "code",
      "execution_count": 1,
      "metadata": {},
      "outputs": [
        {
          "output_type": "display_data",
          "metadata": {},
          "data": {
            "text/plain": [
              "2-element Vector{FermionBath}:\n",
              " HierarchicalEOM.FermionBath object with 6 terms.\n",
              "\n",
              " HierarchicalEOM.FermionBath object with 6 terms."
            ]
          }
        }
      ],
      "source": [
        "Γ = 0.01\n",
        "W = 1\n",
        "kT = 0.025851991\n",
        "μL =  1.0 # Left  bath\n",
        "μR = -1.0 # Right bath\n",
        "N = 2\n",
        "bath_L = Fermion_Lorentz_Pade(d, Γ, μL, W, kT, N)\n",
        "bath_R = Fermion_Lorentz_Pade(d, Γ, μR, W, kT, N)\n",
        "baths = [bath_L, bath_R]"
      ],
      "id": "6"
    },
    {
      "cell_type": "markdown",
      "metadata": {},
      "source": [
        "## Construct HEOMLS matrix"
      ],
      "id": "66b9e7b6-0412-432f-878b-a82fa73bd766"
    },
    {
      "cell_type": "code",
      "execution_count": 1,
      "metadata": {},
      "outputs": [
        {
          "output_type": "stream",
          "name": "stdout",
          "text": [
            "Preparing block matrices for HEOM Liouvillian superoperator (using 4 threads)...\n",
            "Progress: [==============================] 100.0% --- Elapsed Time: 0h 00m 00s (ETA: 0h 00m 00s)\n",
            "Constructing matrix...[DONE]"
          ]
        },
        {
          "output_type": "display_data",
          "metadata": {},
          "data": {
            "text/plain": [
              "Fermion type HEOMLS matrix acting on even-parity ADOs\n",
              "system dims = [2]\n",
              "number of ADOs N = 1586\n",
              "data =\n",
              "MatrixOperator(6344 × 6344)"
            ]
          }
        }
      ],
      "source": [
        "tier = 5\n",
        "M = M_Fermion(Hsys, tier, baths)"
      ],
      "id": "8"
    },
    {
      "cell_type": "markdown",
      "metadata": {},
      "source": [
        "## Solve time evolution of ADOs"
      ],
      "id": "44d7036a-6f79-4ab6-ad18-c4d9e966d532"
    },
    {
      "cell_type": "code",
      "execution_count": 1,
      "metadata": {},
      "outputs": [
        {
          "output_type": "stream",
          "name": "stdout",
          "text": [
            "Solving time evolution for ADOs by Ordinary Differential Equations method...\n",
            "Progress: [==============================] 100.0% --- Elapsed Time: 0h 00m 00s (ETA: 0h 00m 00s)"
          ]
        },
        {
          "output_type": "display_data",
          "metadata": {},
          "data": {
            "text/plain": [
              "201-element Vector{ADOs}:\n",
              " 1586 Auxiliary Density Operators with even-parity and (system) dims = [2]\n",
              "\n",
              " 1586 Auxiliary Density Operators with even-parity and (system) dims = [2]\n",
              "\n",
              " 1586 Auxiliary Density Operators with even-parity and (system) dims = [2]\n",
              "\n",
              " 1586 Auxiliary Density Operators with even-parity and (system) dims = [2]\n",
              "\n",
              " 1586 Auxiliary Density Operators with even-parity and (system) dims = [2]\n",
              "\n",
              " 1586 Auxiliary Density Operators with even-parity and (system) dims = [2]\n",
              "\n",
              " 1586 Auxiliary Density Operators with even-parity and (system) dims = [2]\n",
              "\n",
              " 1586 Auxiliary Density Operators with even-parity and (system) dims = [2]\n",
              "\n",
              " 1586 Auxiliary Density Operators with even-parity and (system) dims = [2]\n",
              "\n",
              " 1586 Auxiliary Density Operators with even-parity and (system) dims = [2]\n",
              "\n",
              " ⋮\n",
              " 1586 Auxiliary Density Operators with even-parity and (system) dims = [2]\n",
              "\n",
              " 1586 Auxiliary Density Operators with even-parity and (system) dims = [2]\n",
              "\n",
              " 1586 Auxiliary Density Operators with even-parity and (system) dims = [2]\n",
              "\n",
              " 1586 Auxiliary Density Operators with even-parity and (system) dims = [2]\n",
              "\n",
              " 1586 Auxiliary Density Operators with even-parity and (system) dims = [2]\n",
              "\n",
              " 1586 Auxiliary Density Operators with even-parity and (system) dims = [2]\n",
              "\n",
              " 1586 Auxiliary Density Operators with even-parity and (system) dims = [2]\n",
              "\n",
              " 1586 Auxiliary Density Operators with even-parity and (system) dims = [2]\n",
              "\n",
              " 1586 Auxiliary Density Operators with even-parity and (system) dims = [2]"
            ]
          }
        }
      ],
      "source": [
        "tlist = 0:0.5:100\n",
        "ados_evolution = HEOMsolve(M, ψ0, tlist).ados"
      ],
      "id": "10"
    },
    {
      "cell_type": "markdown",
      "metadata": {},
      "source": [
        "## Solve stationary state of ADOs"
      ],
      "id": "9ac732ec-ec2a-4957-9ebc-e92084ac4899"
    },
    {
      "cell_type": "code",
      "execution_count": 1,
      "metadata": {},
      "outputs": [
        {
          "output_type": "stream",
          "name": "stdout",
          "text": [
            "Solving steady state for ADOs by linear-solve method...\n",
            "Calculating left preconditioner with ilu...[DONE]\n",
            "Solving linear problem...[DONE]"
          ]
        },
        {
          "output_type": "display_data",
          "metadata": {},
          "data": {
            "text/plain": [
              "1586 Auxiliary Density Operators with even-parity and (system) dims = [2]"
            ]
          }
        }
      ],
      "source": [
        "ados_steady = steadystate(M)"
      ],
      "id": "12"
    },
    {
      "cell_type": "markdown",
      "metadata": {},
      "source": [
        "## Calculate current\n",
        "\n",
        "Within the influence functional approach, the expectation value of the\n",
        "electronic current from the $\\alpha$-fermionic bath into the system can\n",
        "be written in terms of the first-level-fermionic ($n=1$) auxiliary\n",
        "density operators, namely\n",
        "\n",
        "$$\n",
        "\\langle I_\\alpha(t) \\rangle =(-e) \\frac{d\\langle \\mathcal{N}_\\alpha\\rangle}{dt}=i e \\sum_{q\\in\\textbf{q}}(-1)^{\\delta_{\\nu,-}} ~\\textrm{Tr}\\left[d^{\\bar{\\nu}}\\rho^{(0,1,+)}_{\\vert \\textbf{q}}(t)\\right],\n",
        "$$\n",
        "\n",
        "where $e$ represents the value of the elementary charge, and\n",
        "$\\mathcal{N}_\\alpha=\\sum_k c^\\dagger_{\\alpha,k}c_{\\alpha,k}$ is the\n",
        "occupation number operator for the $\\alpha$-fermionic bath.\n",
        "\n",
        "Given an ADOs, we provide a function which calculates the current from\n",
        "the $\\alpha$-fermionic bath into the system with the help of [Hierarchy\n",
        "Dictionary](https://qutip.org/HierarchicalEOM.jl/stable/hierarchy_dictionary/#doc-Hierarchy-Dictionary)."
      ],
      "id": "787ce00a-8d47-4e4c-999a-b55b881c1225"
    },
    {
      "cell_type": "code",
      "execution_count": 1,
      "metadata": {},
      "outputs": [
        {
          "output_type": "display_data",
          "metadata": {},
          "data": {
            "text/plain": [
              "Ic (generic function with 1 method)"
            ]
          }
        }
      ],
      "source": [
        "# `bathIdx`:  \n",
        "# - 1 means 1st bath (bath_L)\n",
        "# - 2 means 2nd bath (bath_R)\n",
        "function Ic(ados, M::M_Fermion, bathIdx::Int)\n",
        "    # the hierarchy dictionary\n",
        "    HDict = M.hierarchy\n",
        "\n",
        "    # we need all the indices of ADOs for the first level\n",
        "    idx_list = HDict.lvl2idx[1]\n",
        "    I = 0.0im\n",
        "    for idx in idx_list\n",
        "        ρ1 = ados[idx]  # 1st-level ADO\n",
        "\n",
        "        # find the corresponding bath index (α) and exponent term index (k)\n",
        "        nvec = HDict.idx2nvec[idx]\n",
        "        for (α, k, _) in getIndexEnsemble(nvec, HDict.bathPtr)\n",
        "            if α == bathIdx\n",
        "                exponent = M.bath[α][k]\n",
        "                if exponent.types == \"fA\"     # fermion-absorption\n",
        "                    I += tr(exponent.op' * ρ1)\n",
        "                elseif exponent.types == \"fE\" # fermion-emission\n",
        "                    I -= tr(exponent.op' * ρ1)\n",
        "                end\n",
        "                break\n",
        "            end\n",
        "        end\n",
        "    end\n",
        "\n",
        "    eV_to_Joule = 1.60218E-19  # unit conversion\n",
        "\n",
        "    # (e / ħ) * I  [change unit to μA] \n",
        "    return 1.519270639695384E15 * real(1im * I) * eV_to_Joule * 1E6\n",
        "end"
      ],
      "id": "14"
    },
    {
      "cell_type": "markdown",
      "metadata": {},
      "source": [
        "## steady current"
      ],
      "id": "5ad69661-e70e-4dd3-9f57-6e5ac1517ee1"
    },
    {
      "cell_type": "code",
      "execution_count": 1,
      "metadata": {},
      "outputs": [
        {
          "output_type": "display_data",
          "metadata": {},
          "data": {
            "text/plain": [
              "201-element Vector{Float64}:\n",
              " -0.046328543314120244\n",
              " -0.046328543314120244\n",
              " -0.046328543314120244\n",
              " -0.046328543314120244\n",
              " -0.046328543314120244\n",
              " -0.046328543314120244\n",
              " -0.046328543314120244\n",
              " -0.046328543314120244\n",
              " -0.046328543314120244\n",
              " -0.046328543314120244\n",
              "  ⋮\n",
              " -0.046328543314120244\n",
              " -0.046328543314120244\n",
              " -0.046328543314120244\n",
              " -0.046328543314120244\n",
              " -0.046328543314120244\n",
              " -0.046328543314120244\n",
              " -0.046328543314120244\n",
              " -0.046328543314120244\n",
              " -0.046328543314120244"
            ]
          }
        }
      ],
      "source": [
        "Is_L = ones(length(tlist)) .* Ic(ados_steady, M, 1)\n",
        "Is_R = ones(length(tlist)) .* Ic(ados_steady, M, 2)"
      ],
      "id": "16"
    },
    {
      "cell_type": "markdown",
      "metadata": {},
      "source": [
        "## time evolution current"
      ],
      "id": "d391903c-4a23-48f4-854d-9b889b010a45"
    },
    {
      "cell_type": "code",
      "execution_count": 1,
      "metadata": {},
      "outputs": [],
      "source": [
        "Ie_L = []\n",
        "Ie_R = []\n",
        "for ados in ados_evolution\n",
        "    push!(Ie_L, Ic(ados, M, 1))\n",
        "    push!(Ie_R, Ic(ados, M, 2))\n",
        "end"
      ],
      "id": "18"
    },
    {
      "cell_type": "markdown",
      "metadata": {},
      "source": [
        "plot the result"
      ],
      "id": "f4f240cd-da24-4bab-ad0e-e098a557a907"
    },
    {
      "cell_type": "code",
      "execution_count": 1,
      "metadata": {},
      "outputs": [
        {
          "output_type": "display_data",
          "metadata": {},
          "data": {
            "text/html": [
              "<img width=500 height=350 style='object-fit: contain; height: auto;' src=\"data:image/png;base64, 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\"/>"
            ]
          }
        }
      ],
      "source": [
        "fig = Figure(size = (500, 350))\n",
        "ax = Axis(fig[1, 1], xlabel = \"time\", ylabel = \"Current\")\n",
        "lines!(ax, tlist, Ie_L, label = \"Bath L\", color = :blue, linestyle = :solid)\n",
        "lines!(ax, tlist, Ie_R, label = \"Bath R\", color = :red, linestyle = :solid)\n",
        "lines!(ax, tlist, Is_L, label = \"Bath L (Steady State)\", color = :blue, linestyle = :dash)\n",
        "lines!(ax, tlist, Is_R, label = \"Bath R (Steady State)\", color = :red, linestyle = :dash)\n",
        "\n",
        "axislegend(ax, position = :rt)\n",
        "\n",
        "fig"
      ],
      "id": "20"
    },
    {
      "cell_type": "markdown",
      "metadata": {},
      "source": [
        "## Version Information"
      ],
      "id": "e5b0a715-db83-4081-95b1-969dcd85755d"
    },
    {
      "cell_type": "code",
      "execution_count": 1,
      "metadata": {},
      "outputs": [],
      "source": [
        "HierarchicalEOM.versioninfo()"
      ],
      "id": "22"
    },
    {
      "cell_type": "markdown",
      "metadata": {},
      "source": [
        "Huang, Yi-Te, Po-Chen Kuo, Neill Lambert, Mauro Cirio, Simon Cross,\n",
        "Shen-Liang Yang, Franco Nori, and Yueh-Nan Chen. 2023. “An Efficient\n",
        "Julia Framework for Hierarchical Equations of Motion in Open Quantum\n",
        "Systems.” *Communications Physics* 6 (1): 313.\n",
        "<https://doi.org/10.1038/s42005-023-01427-2>."
      ],
      "id": "c84e9c5a-1443-4db5-b3bf-c0ce67580a24"
    }
  ],
  "nbformat": 4,
  "nbformat_minor": 5,
  "metadata": {
    "kernel_info": {
      "name": "julia"
    },
    "kernelspec": {
      "name": "julia",
      "display_name": "Julia",
      "language": "julia"
    },
    "language_info": {
      "name": "julia",
      "codemirror_mode": "julia",
      "version": "1.11.5"
    }
  }
}